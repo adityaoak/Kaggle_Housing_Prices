{
 "cells": [
  {
   "cell_type": "code",
   "execution_count": 8,
   "metadata": {},
   "outputs": [],
   "source": [
    "import pandas as pd\n",
    "\n",
    "train_file = r'C:\\Users\\Aditya Oak\\Desktop\\Kaggle Intermediate ML course\\train.csv'\n",
    "test_file = r'C:\\Users\\Aditya Oak\\Desktop\\Kaggle Intermediate ML course\\test.csv'\n",
    "\n",
    "X_train_full = pd.read_csv(train_file, index_col='Id')\n",
    "X_test_full = pd.read_csv(test_file, index_col='Id')"
   ]
  },
  {
   "cell_type": "code",
   "execution_count": 28,
   "metadata": {},
   "outputs": [],
   "source": [
    "#Obtain features and target and split datasets\n",
    "\n",
    "from sklearn.model_selection import train_test_split\n",
    "\n",
    "y = X_train_full.SalePrice\n",
    "\n",
    "features = ['LotArea', 'YearBuilt', '1stFlrSF', '2ndFlrSF', 'FullBath', 'BedroomAbvGr', 'TotRmsAbvGrd']\n",
    "\n",
    "X = X_train_full[features]\n",
    "X_test = X_test_full[features]\n",
    "\n",
    "X_train, X_valid, y_train, y_valid = train_test_split(X, y, train_size = 0.8, test_size = 0.2, random_state = 0)"
   ]
  },
  {
   "cell_type": "code",
   "execution_count": 10,
   "metadata": {},
   "outputs": [
    {
     "output_type": "execute_result",
     "data": {
      "text/plain": "     LotArea  YearBuilt  1stFlrSF  2ndFlrSF  FullBath  BedroomAbvGr  \\\nId                                                                    \n619    11694       2007      1828         0         2             3   \n871     6600       1962       894         0         1             2   \n93     13360       1921       964         0         1             2   \n818    13265       2002      1689         0         2             3   \n303    13704       2001      1541         0         2             3   \n\n     TotRmsAbvGrd  \nId                 \n619             9  \n871             5  \n93              5  \n818             7  \n303             6  ",
      "text/html": "<div>\n<style scoped>\n    .dataframe tbody tr th:only-of-type {\n        vertical-align: middle;\n    }\n\n    .dataframe tbody tr th {\n        vertical-align: top;\n    }\n\n    .dataframe thead th {\n        text-align: right;\n    }\n</style>\n<table border=\"1\" class=\"dataframe\">\n  <thead>\n    <tr style=\"text-align: right;\">\n      <th></th>\n      <th>LotArea</th>\n      <th>YearBuilt</th>\n      <th>1stFlrSF</th>\n      <th>2ndFlrSF</th>\n      <th>FullBath</th>\n      <th>BedroomAbvGr</th>\n      <th>TotRmsAbvGrd</th>\n    </tr>\n    <tr>\n      <th>Id</th>\n      <th></th>\n      <th></th>\n      <th></th>\n      <th></th>\n      <th></th>\n      <th></th>\n      <th></th>\n    </tr>\n  </thead>\n  <tbody>\n    <tr>\n      <th>619</th>\n      <td>11694</td>\n      <td>2007</td>\n      <td>1828</td>\n      <td>0</td>\n      <td>2</td>\n      <td>3</td>\n      <td>9</td>\n    </tr>\n    <tr>\n      <th>871</th>\n      <td>6600</td>\n      <td>1962</td>\n      <td>894</td>\n      <td>0</td>\n      <td>1</td>\n      <td>2</td>\n      <td>5</td>\n    </tr>\n    <tr>\n      <th>93</th>\n      <td>13360</td>\n      <td>1921</td>\n      <td>964</td>\n      <td>0</td>\n      <td>1</td>\n      <td>2</td>\n      <td>5</td>\n    </tr>\n    <tr>\n      <th>818</th>\n      <td>13265</td>\n      <td>2002</td>\n      <td>1689</td>\n      <td>0</td>\n      <td>2</td>\n      <td>3</td>\n      <td>7</td>\n    </tr>\n    <tr>\n      <th>303</th>\n      <td>13704</td>\n      <td>2001</td>\n      <td>1541</td>\n      <td>0</td>\n      <td>2</td>\n      <td>3</td>\n      <td>6</td>\n    </tr>\n  </tbody>\n</table>\n</div>"
     },
     "metadata": {},
     "execution_count": 10
    }
   ],
   "source": [
    "X_train.head()"
   ]
  },
  {
   "cell_type": "code",
   "execution_count": 12,
   "metadata": {},
   "outputs": [],
   "source": [
    "# Build a few models of Random Forest Regressor with varying parameters\n",
    "\n",
    "from sklearn.ensemble import RandomForestRegressor\n",
    "\n",
    "model_1 = RandomForestRegressor(n_estimators=50, random_state = 0)\n",
    "model_2 = RandomForestRegressor(n_estimators=100, random_state=0)\n",
    "model_3 = RandomForestRegressor(n_estimators=100, criterion='mae', random_state=0)\n",
    "model_4 = RandomForestRegressor(n_estimators=200, min_samples_split=20, random_state=0)\n",
    "model_5 = RandomForestRegressor(n_estimators=100, max_depth=7, random_state=0)\n",
    "\n",
    "models = [model_1,model_2,model_3,model_4,model_5]"
   ]
  },
  {
   "cell_type": "code",
   "execution_count": 22,
   "metadata": {},
   "outputs": [
    {
     "output_type": "stream",
     "name": "stdout",
     "text": "Model  1  Score:  24015.492818003917\nModel  2  Score:  23740.979228636657\nModel  3  Score:  23528.78421232877\nModel  4  Score:  23996.676789668687\nModel  5  Score:  23706.672864217904\n"
    }
   ],
   "source": [
    "# Build a function that will score the models based on the mae values\n",
    "from sklearn.metrics import mean_absolute_error\n",
    "#model_scores = {}\n",
    "\n",
    "def score_model(model,X_train,y_train,X_valid,y_valid):\n",
    "    model.fit(X_train,y_train)\n",
    "    y_pred = model.predict(X_valid)\n",
    "    return mean_absolute_error(y_pred,y_valid)\n",
    "\n",
    "for i,model in enumerate(models):\n",
    "    score = score_model(model,X_train,y_train,X_valid,y_valid)\n",
    "    #model_scores.update([(i+1,score)])\n",
    "    print(\"Model \",i+1,\" Score: \",score)"
   ]
  },
  {
   "cell_type": "code",
   "execution_count": 24,
   "metadata": {},
   "outputs": [],
   "source": [
    "best_model = model_3"
   ]
  },
  {
   "cell_type": "code",
   "execution_count": 30,
   "metadata": {},
   "outputs": [],
   "source": [
    "# Fit model to training data\n",
    "# Generate predictions based on best model\n",
    "\n",
    "best_model.fit(X_train,y_train)\n",
    "y_preds_best = best_model.predict(X_test)\n",
    "\n",
    "output = pd.DataFrame({'Id': X_test.index,\n",
    "                       'SalePrice': y_preds_best})\n",
    "\n",
    "output.to_csv('submission.csv', index = False)"
   ]
  },
  {
   "cell_type": "markdown",
   "metadata": {},
   "source": []
  },
  {
   "cell_type": "code",
   "execution_count": null,
   "metadata": {},
   "outputs": [],
   "source": []
  }
 ],
 "metadata": {
  "language_info": {
   "codemirror_mode": {
    "name": "ipython",
    "version": 3
   },
   "file_extension": ".py",
   "mimetype": "text/x-python",
   "name": "python",
   "nbconvert_exporter": "python",
   "pygments_lexer": "ipython3",
   "version": "3.7.3-final"
  },
  "orig_nbformat": 2,
  "kernelspec": {
   "name": "python37332bit6bd0968b296c4b42a4255d46672a1590",
   "display_name": "Python 3.7.3 32-bit"
  }
 },
 "nbformat": 4,
 "nbformat_minor": 2
}